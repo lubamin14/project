{
  "nbformat": 4,
  "nbformat_minor": 0,
  "metadata": {
    "colab": {
      "provenance": [],
      "authorship_tag": "ABX9TyOvH4RdSqq7bYAlNgRp5S7P"
    },
    "kernelspec": {
      "name": "python3",
      "display_name": "Python 3"
    },
    "language_info": {
      "name": "python"
    }
  },
  "cells": [
    {
      "cell_type": "markdown",
      "source": [
        "#Разработка системы управления библиотекой\n",
        "\n",
        "#Описание работы программы\n",
        "1. Добавление книги: Пользователь вводит название, автора и год издания. Книга добавляется с уникальным идентификатором.\n",
        "2. Удаление книги: Удаление осуществляется по ID. Если книга не найдена, выводится ошибка.\n",
        "3. Поиск книги: Поиск осуществляется по названию, автору или году издания.\n",
        "4. Отображение всех книг: Выводится список всех книг с их данными.\n",
        "5. Изменение статуса: Статус книги можно изменить на \"в наличии\" или \"выдана\".\n",
        "\n",
        "##Обработка ошибок\n",
        "\n",
        "Программа обрабатывает различные ошибки, такие как попытка удалить несуществующую книгу и ввод неверного статуса.\n",
        "\n",
        "##Хранение данных\n",
        "\n",
        "Данные о книгах хранятся в формате JSON в файле books.json, что позволяет сохранять состояние библиотеки между запусками приложения.\n",
        "\n",
        " Эта реализация соответствует всем требованиям задания и может быть расширена дополнительными функциями или улучшениями по мере необходимости.\n"
      ],
      "metadata": {
        "id": "8UBLcrsrDgIF"
      }
    },
    {
      "cell_type": "markdown",
      "source": [
        "##Library.py\n",
        "\n",
        "1.Импорт библиотек"
      ],
      "metadata": {
        "id": "MxYfMDxnEPaE"
      }
    },
    {
      "cell_type": "code",
      "source": [
        "import json\n",
        "import os"
      ],
      "metadata": {
        "id": "3uSitTbSD-C4"
      },
      "execution_count": 16,
      "outputs": []
    },
    {
      "cell_type": "code",
      "source": [
        "class Book:\n",
        "    def __init__(self, book_id, title, author, year, status, sector, shelf):\n",
        "        self.id = book_id\n",
        "        self.title = title\n",
        "        self.author = author\n",
        "        self.year = year\n",
        "        self.status = status\n",
        "        self.sector = sector  # поле для сектора\n",
        "        self.shelf = shelf    # поле для полки\n",
        "\n",
        "class Library:\n",
        "    def __init__(self):\n",
        "        self.books = []\n",
        "        self.load_books()\n",
        "\n",
        "    def load_books(self):\n",
        "        try:\n",
        "            with open('books.json', 'r') as f:\n",
        "                self.books = json.load(f)\n",
        "        except FileNotFoundError:\n",
        "            self.books = []\n",
        "\n",
        "    def save_books(self):\n",
        "        with open('books.json', 'w') as f:\n",
        "            json.dump(self.books, f)\n",
        "\n",
        "    def add_book(self, title, author, year, sector, shelf):\n",
        "        book_id = len(self.books) + 1\n",
        "        new_book = Book(book_id, title, author, year, \"в наличии\", sector, shelf)\n",
        "        self.books.append(new_book.__dict__)\n",
        "        self.save_books()\n",
        "\n",
        "    def search_book(self, search_term):\n",
        "        found_books = [book for book in self.books if search_term.lower() in book['title'].lower()]\n",
        "        if found_books:\n",
        "            for book in found_books:\n",
        "                print(f\"Найдена книга '{book['title']}' в секторе №{book['sector']} на полке {book['shelf']}\")\n",
        "        else:\n",
        "            print(\"Книга не найдена.\")\n",
        "\n",
        "    # Остальные методы (удаление, отображение, изменение статуса) остаются без изменений\n",
        "\n",
        "\n",
        "def main():\n",
        "    library = Library()\n",
        "    while True:\n",
        "        print(\"\\nМеню:\")\n",
        "        print(\"1. Добавить книгу\")\n",
        "        print(\"2. Удалить книгу\")\n",
        "        print(\"3. Поиск книги\")\n",
        "        print(\"4. Отобразить все книги\")\n",
        "        print(\"5. Изменить статус книги\")\n",
        "        print(\"6. Выход\")\n",
        "\n",
        "        choice = input(\"Выберите опцию: \")\n",
        "        if choice == '1':\n",
        "            title = input() #Введите название книги\n",
        "            author = input()  #Введите автора книги\n",
        "            year = input(\"Введите год издания: \")\n",
        "            sector = input(\"Введите сектор: \")\n",
        "            shelf = input(\"Введите полку: \")\n",
        "            library.add_book(title, author, year, sector, shelf)\n",
        "        elif choice == '2':\n",
        "            id = int(input(\"Введите ID книги для удаления: \"))\n",
        "            library.remove_book(id)\n",
        "        elif choice == '3':\n",
        "            query = input(\"Введите название книги для поиска: \")\n",
        "            library.search_book(query)\n",
        "        elif choice == '4':\n",
        "            library.display_books()\n",
        "        elif choice == '5':\n",
        "            id = int(input(\"Введите ID книги для изменения статуса: \"))\n",
        "            new_status = input(\"Введите новый статус ('в наличии' или 'выдана'): \")\n",
        "            library.change_status(id, new_status)\n",
        "        elif choice == '6':\n",
        "            print(\"Выход из программы.\")\n",
        "            break\n",
        "        else:\n",
        "            print(\"Неверный выбор. Попробуйте еще раз.\")\n",
        "\n",
        "if __name__ == \"__main__\":\n",
        "    main()"
      ],
      "metadata": {
        "colab": {
          "base_uri": "https://localhost:8080/"
        },
        "id": "q2TbjclYMt2f",
        "outputId": "3781ecf5-7028-4796-c840-349453f3aed8"
      },
      "execution_count": null,
      "outputs": [
        {
          "output_type": "stream",
          "name": "stdout",
          "text": [
            "\n",
            "Меню:\n",
            "1. Добавить книгу\n",
            "2. Удалить книгу\n",
            "3. Поиск книги\n",
            "4. Отобразить все книги\n",
            "5. Изменить статус книги\n",
            "6. Выход\n"
          ]
        }
      ]
    },
    {
      "cell_type": "code",
      "source": [
        "# Пример использования\n",
        "library = Library()\n",
        "library.add_book(\"Война и мир\", \"Лев Толстой\", 1869, 4, 7)\n",
        "library.search_book(\"Война и мир\")"
      ],
      "metadata": {
        "id": "hKuaFSMcNFzm"
      },
      "execution_count": null,
      "outputs": []
    }
  ]
}