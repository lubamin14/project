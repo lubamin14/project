{
 "cells": [
  {
   "cell_type": "code",
   "execution_count": null,
   "metadata": {},
   "outputs": [],
   "source": []
  },
  {
   "cell_type": "markdown",
   "metadata": {},
   "source": [
    "# Заголовок первого уровня\n",
    "## Заголовок второго уровня\n",
    "### Заголовок третьего уровня\n",
    "#### Заголовок четвёртого уровня\n",
    "##### Заголовок пятого уровня\n",
    "###### Заголовок шестого уровня"
   ]
  },
  {
   "cell_type": "markdown",
   "metadata": {},
   "source": [
    "**Жирный текст**"
   ]
  },
  {
   "cell_type": "markdown",
   "metadata": {},
   "source": [
    "*курсив*"
   ]
  },
  {
   "cell_type": "markdown",
   "metadata": {},
   "source": [
    "~~зачёркнутый текст~~\n"
   ]
  },
  {
   "cell_type": "markdown",
   "metadata": {},
   "source": [
    "$$\\left( \\sum_{k=1}^n a_k b_k \\right)^2 \\leq \\left( \\sum_{k=1}^n a_k^2 \\right) \\left( \\sum_{k=1}^n b_k^2 \\right)$$\n"
   ]
  },
  {
   "cell_type": "markdown",
   "metadata": {},
   "source": [
    "$e = mc^2$\n"
   ]
  },
  {
   "cell_type": "markdown",
   "metadata": {},
   "source": [
    "$\\sqrt{3x-1}+(1+x)^2$\n"
   ]
  },
  {
   "cell_type": "markdown",
   "metadata": {},
   "source": [
    "* Первый пункт\n",
    "* Второй пункт\n",
    "* Третий пункт\n",
    "- Первый пункт\n",
    "- Второй пункт\n",
    "- Третий пункт\n",
    "+ Первый пункт\n",
    "+ Второй пункт\n",
    "+ Третий пункт\n"
   ]
  },
  {
   "cell_type": "markdown",
   "metadata": {},
   "source": [
    "1. Первый пункт\n",
    "2. Второй пункт\n",
    "3. Третий пункт\n"
   ]
  },
  {
   "cell_type": "markdown",
   "metadata": {},
   "source": [
    "1. Пункт\n",
    "1. Подпункт\n",
    "1. Подподпункт\n",
    "- Пункт\n",
    "- Подпункт\n",
    "- Подподпункт\n",
    "1. Пункт\n",
    "- Подпункт\n",
    "* Подподпункт\n",
    "+ Пункт\n",
    "1. Подпункт\n",
    "- Пункт\n",
    "- [x] Отмеченный подпункт\n",
    "- [ ] Неотмеченный подпункт\n",
    "1. Подподпункт\n"
   ]
  },
  {
   "cell_type": "markdown",
   "metadata": {},
   "source": [
    "| Заголовок 1 | Заголовок 2|\n",
    "| ------- | -------- |\n",
    "| Текст | Текст |\n",
    "| Текст | Текст |\n"
   ]
  },
  {
   "cell_type": "markdown",
   "metadata": {},
   "source": [
    "| Заголовок 1 | Заголовок 2 | Заголовок 3 |\n",
    "|--------------|--------------|--------------|\n",
    "| Данные 1 | Данные 2 | Данные 3 |\n",
    "| Данные 4 | Данные 5 | Данные 6 |\n"
   ]
  }
 ],
 "metadata": {
  "kernelspec": {
   "display_name": "Python 3",
   "language": "python",
   "name": "python3"
  },
  "language_info": {
   "codemirror_mode": {
    "name": "ipython",
    "version": 3
   },
   "file_extension": ".py",
   "mimetype": "text/x-python",
   "name": "python",
   "nbconvert_exporter": "python",
   "pygments_lexer": "ipython3",
   "version": "3.12.5"
  }
 },
 "nbformat": 4,
 "nbformat_minor": 2
}
